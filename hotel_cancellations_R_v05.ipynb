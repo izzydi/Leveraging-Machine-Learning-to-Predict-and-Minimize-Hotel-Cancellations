{
 "cells": [
  {
   "cell_type": "markdown",
   "id": "a7239d18-b790-4b8b-b806-d0416922f86c",
   "metadata": {},
   "source": [
    "# REPORT"
   ]
  },
  {
   "cell_type": "markdown",
   "id": "c2336f87-d5f9-4d31-b8c7-66aae649dffd",
   "metadata": {
    "tags": []
   },
   "source": [
    "According to a predictive model built on the given dataset, the top six most important predictors of hotel cancellations were identified as follows:\n",
    "\n",
    "Lead time: The number of days between the booking and the arrival date was found to be the most significant predictor of hotel cancellations. This suggests that customers are more likely to cancel their bookings the further out the booking is made.\n",
    "\n",
    "Average price per room: The average price per room for the booking was found to be the second most important predictor. This indicates that customers may be more likely to cancel bookings if they feel they are not getting good value for their money.\n",
    "\n",
    "Number of special requests: The number of special requests made by the customer was identified as the third most important predictor. This suggests that customers who make more special requests may be more likely to cancel their bookings.\n",
    "\n",
    "Arrival month: The month of the arrival date was identified as the fourth most important predictor. This indicates that hotel cancellations may be more likely to occur during certain months of the year.\n",
    "\n",
    "Arrival date: The day of the month of the arrival date was found to be the fifth most important predictor. This suggests that hotel cancellations may be more likely to occur on certain days of the month.\n",
    "\n",
    "Market segment type: The type of market segment the booking belongs to was identified as the sixth most important predictor. This suggests that cancellations may be more likely to occur for bookings made through certain market segments.\n",
    "\n",
    "Overall, these findings suggest that hotel cancellations are influenced by a variety of factors, including the timing and price of the booking, the number of special requests made by the customer, and the type of market segment the booking belongs to. Hotel managers could use this information to better understand the factors that contribute to cancellations and develop strategies to minimize cancellations, such as offering incentives for customers who book closer to the arrival date, or targeting certain market segments with customized marketing campaigns."
   ]
  },
  {
   "cell_type": "markdown",
   "id": "2860828f-2492-472d-9f3c-ea10d94ccde0",
   "metadata": {},
   "source": [
    "# LIBRARIES "
   ]
  },
  {
   "cell_type": "code",
   "execution_count": null,
   "id": "d55c6ac8-715f-4296-a6b7-0f8301d02a25",
   "metadata": {},
   "outputs": [],
   "source": [
    "pkgs <- c(\"tidyverse\", \"tidymodels\", \"vip\",\"pacman\",\"ggthemes\",\"ggridges\",\"dlookr\")\n",
    "not_installed <- pkgs[!(pkgs %in% installed.packages()[, \"Package\"])]\n",
    "if (length(not_installed) > 0) {\n",
    "  install.packages(not_installed)\n",
    "}\n",
    "pacman::p_load(pkgs, character.only = TRUE)"
   ]
  },
  {
   "cell_type": "markdown",
   "id": "87db8a00-9e4a-4674-85a5-988a5382dadc",
   "metadata": {},
   "source": [
    "# THE DATA "
   ]
  },
  {
   "cell_type": "code",
   "execution_count": null,
   "id": "4f26cf72-e4b3-44c3-b9c1-1f20a8f1c637",
   "metadata": {},
   "outputs": [],
   "source": [
    "hotels <- \n",
    "  read_csv('data/hotel_bookings.csv', show_col_types = FALSE) %>%\n",
    "  mutate(across(where(is.character), as.factor)) %>%\n",
    "  glimpse()"
   ]
  },
  {
   "cell_type": "code",
   "execution_count": null,
   "id": "c4060280-abb2-4b8d-9ca1-680aca7fd3af",
   "metadata": {},
   "outputs": [],
   "source": [
    "hotels %>% diagnose() \n",
    "hotels %>% diagnose_category()\n",
    "hotels %>% diagnose_numeric()"
   ]
  },
  {
   "cell_type": "code",
   "execution_count": null,
   "id": "8c00d03a-0f11-4582-b60f-c5a62b93aca8",
   "metadata": {},
   "outputs": [],
   "source": [
    "options(repr.plot.width = 10, repr.plot.height = 8, repr.plot.res =100)\n",
    "\n",
    "bgr = theme(plot.background = element_rect(fill=\"#FFDAB9\"),\n",
    "             plot.title = element_text(size=17),\n",
    "             axis.title.y = element_text(size=17, face = \"bold\"),\n",
    "             axis.text.x = element_text(size=15,face = \"bold\",angle = 75),\n",
    "             axis.text.y = element_text(size=15,face = \"bold\"),\n",
    "             legend.text = element_text(size=13),\n",
    "             legend.title = element_text(size=11.5,face = \"bold\"))\n",
    "\n",
    "\n",
    "hotels %>% \n",
    "  plot_na_pareto()+\n",
    "  bgr"
   ]
  },
  {
   "cell_type": "markdown",
   "id": "30fae9eb-c993-4dbb-a395-948aa778284f",
   "metadata": {},
   "source": [
    "To build our models, we will exclude the \"Booking_ID\" as it does not seem to provide any meaningful information. Additionally, we will perform some basic preprocessing steps on our data."
   ]
  },
  {
   "cell_type": "code",
   "execution_count": null,
   "id": "dbb85abe-2054-4caf-b223-7cc8e368b57a",
   "metadata": {},
   "outputs": [],
   "source": [
    "hotels <- hotels %>%\n",
    "  select(-c(Booking_ID)) %>%\n",
    "  drop_na() %>%\n",
    "  mutate(booking_status = factor(booking_status, levels = c(\"Canceled\", \"Not_Canceled\"))) %>%\n",
    "  mutate(required_car_parking_space = case_when(\n",
    "         required_car_parking_space > 0 ~ \"parking\",\n",
    "         TRUE ~ \"none\")\n",
    "         )\n",
    "\n",
    "hotels %>% glimpse()"
   ]
  },
  {
   "cell_type": "code",
   "execution_count": null,
   "id": "6f7ac620-1826-4fa3-96e2-078751f10c8f",
   "metadata": {},
   "outputs": [],
   "source": [
    "hotels %>% \n",
    "  count(booking_status) %>% \n",
    "  mutate(prop = scales::percent(n/sum(n), accuracy = 0.1))"
   ]
  },
  {
   "cell_type": "markdown",
   "id": "52a8aaf6-84a6-43b3-a359-b6667e4ed9df",
   "metadata": {
    "tags": []
   },
   "source": [
    "# TRAIN - TEST - VALIDATION SPLITS"
   ]
  },
  {
   "cell_type": "code",
   "execution_count": null,
   "id": "b0fd4a41-26ff-4572-9a60-5766788cb2a1",
   "metadata": {},
   "outputs": [],
   "source": [
    "set.seed(123)\n",
    "splits <- initial_split(hotels, strata = booking_status )\n",
    "\n",
    "hotel_other <- training(splits)\n",
    "hotel_test  <- testing(splits)\n",
    "\n",
    "# training set proportions by booking_status\n",
    "hotel_other %>% \n",
    "  count(booking_status ) %>% \n",
    "  mutate(prop = scales::percent(n/sum(n), accuracy = 0.1))\n",
    "\n",
    "\n",
    "# test set proportions by booking_status\n",
    "hotel_test  %>% \n",
    "  count(booking_status) %>% \n",
    "  mutate(prop = scales::percent(n/sum(n), accuracy = 0.1))"
   ]
  },
  {
   "cell_type": "code",
   "execution_count": null,
   "id": "ea78fb5f-3eaf-481a-b6bf-14fbd9d78ecd",
   "metadata": {},
   "outputs": [],
   "source": [
    "set.seed(234)\n",
    "val_set <- validation_split(hotel_other, strata = booking_status, prop = .8)\n",
    "val_set %>%  glimpse()"
   ]
  },
  {
   "cell_type": "markdown",
   "id": "776e9075-da99-485c-9be4-989f6bb6f890",
   "metadata": {
    "tags": []
   },
   "source": [
    "# FIRST MODEL: PENALIZED LOGISTIC REGRESSION"
   ]
  },
  {
   "cell_type": "code",
   "execution_count": null,
   "id": "4908ae13-bee8-4e0e-82a1-2bf6592403f2",
   "metadata": {},
   "outputs": [],
   "source": [
    "lr_mod <- \n",
    "  logistic_reg(penalty = tune(), mixture = 1) %>% \n",
    "  set_engine(\"glmnet\")"
   ]
  },
  {
   "cell_type": "markdown",
   "id": "f9581e58-6ac8-4284-9df8-d2b613d707e1",
   "metadata": {
    "tags": []
   },
   "source": [
    "Setting mixture to a value of one means that the glmnet model will potentially remove irrelevant predictors and choose a simpler model."
   ]
  },
  {
   "cell_type": "markdown",
   "id": "4a498f4b-a25b-4de5-ae73-c664f5125ae4",
   "metadata": {
    "tags": []
   },
   "source": [
    "# THE RECIPE"
   ]
  },
  {
   "cell_type": "code",
   "execution_count": null,
   "id": "93176979-04db-4692-ab50-a0fd23bcebeb",
   "metadata": {},
   "outputs": [],
   "source": [
    "lr_recipe <- \n",
    "  recipe(booking_status ~ ., data = hotel_other) %>% \n",
    "  step_dummy(all_nominal_predictors()) %>% \n",
    "  step_zv(all_predictors()) %>% \n",
    "  step_normalize(all_predictors())"
   ]
  },
  {
   "cell_type": "markdown",
   "id": "9d7ac0b7-1529-4bb2-9a28-115493424e59",
   "metadata": {},
   "source": [
    "# THE WORKFLOW"
   ]
  },
  {
   "cell_type": "code",
   "execution_count": null,
   "id": "433e44d0-e46f-47ca-b52c-381e319c37ff",
   "metadata": {},
   "outputs": [],
   "source": [
    "lr_workflow <- \n",
    "  workflow() %>% \n",
    "  add_model(lr_mod) %>% \n",
    "  add_recipe(lr_recipe)"
   ]
  },
  {
   "cell_type": "markdown",
   "id": "dc41ebc4-65f4-470f-b4da-6e890662b6a8",
   "metadata": {},
   "source": [
    "# THE GRID FOR TUNING"
   ]
  },
  {
   "cell_type": "code",
   "execution_count": null,
   "id": "836405da-e7cc-4b34-94b0-726219eacab4",
   "metadata": {},
   "outputs": [],
   "source": [
    "lr_reg_grid <- tibble(penalty = 10^seq(-4, -1, length.out = 30))\n",
    "\n",
    "lr_reg_grid %>% top_n(-5) # lowest penalty values\n",
    "lr_reg_grid %>% top_n(5)  # highest penalty values"
   ]
  },
  {
   "cell_type": "markdown",
   "id": "ee9d4855-a4aa-4db1-8bb7-e24e4e653e9f",
   "metadata": {},
   "source": [
    "# TRAIN AND TUNE THE MODEL"
   ]
  },
  {
   "cell_type": "code",
   "execution_count": null,
   "id": "3709323b-b1b4-4b97-9490-60e1d520ea72",
   "metadata": {},
   "outputs": [],
   "source": [
    "lr_res <- \n",
    "  lr_workflow %>% \n",
    "  tune_grid(val_set,\n",
    "            grid = lr_reg_grid,\n",
    "            control = control_grid(save_pred = TRUE),\n",
    "            metrics = metric_set(roc_auc))"
   ]
  },
  {
   "cell_type": "code",
   "execution_count": null,
   "id": "a77d5e76-bdd9-477a-92bf-82575fce4193",
   "metadata": {},
   "outputs": [],
   "source": [
    "options(repr.plot.width = 8, repr.plot.height = 8, repr.plot.res =100)\n",
    "\n",
    "bgr2 = theme(plot.background = element_rect(fill=\"#FFDAB9\"),\n",
    "             axis.title.y = element_text(size=17, face = \"bold\"),\n",
    "             axis.text.x = element_text(size=15,face = \"bold\"),\n",
    "             axis.text.y = element_text(size=15,face = \"bold\"))\n",
    "\n",
    "lr_plot <- \n",
    "  lr_res %>% \n",
    "  collect_metrics() %>% \n",
    "  ggplot(aes(x = penalty, y = mean)) + \n",
    "  geom_point() + \n",
    "  geom_line() + \n",
    "  ylab(\"Area under the ROC Curve\") +\n",
    "  scale_x_log10(labels = scales::label_number())+\n",
    "  theme_wsj()+\n",
    "  bgr2\n",
    "\n",
    "lr_plot "
   ]
  },
  {
   "cell_type": "markdown",
   "id": "e5fe1dc9-b064-4f00-95e2-91078dfe680e",
   "metadata": {},
   "source": [
    "This plots shows us that model performance is generally better at the smaller penalty values. This suggests that the majority of the predictors are important to the model. We also see a steep drop in the area under the ROC curve towards the highest penalty values. This happens because a large enough penalty will remove all predictors from the model, and not surprisingly predictive accuracy plummets with no predictors in the model (recall that an ROC AUC value of 0.50 means that the model does no better than chance at predicting the correct class)."
   ]
  },
  {
   "cell_type": "code",
   "execution_count": null,
   "id": "4561771d-5f43-4fc9-91df-c3f820a28278",
   "metadata": {},
   "outputs": [],
   "source": [
    "top_models <-\n",
    "  lr_res %>% \n",
    "  show_best(\"roc_auc\", n = 15) %>% \n",
    "  arrange(penalty) \n",
    "top_models "
   ]
  },
  {
   "cell_type": "code",
   "execution_count": null,
   "id": "0e66d323-8927-47a7-ae4e-cf4c50635f42",
   "metadata": {},
   "outputs": [],
   "source": [
    "top_models <-\n",
    "  lr_res %>% \n",
    "  select_best(\"roc_auc\", n = 15) %>% \n",
    "  arrange(penalty) \n",
    "top_models"
   ]
  },
  {
   "cell_type": "code",
   "execution_count": null,
   "id": "4f80daac-7a3d-4948-84e9-0c5248caacce",
   "metadata": {},
   "outputs": [],
   "source": [
    "lr_best <- \n",
    "  lr_res %>% \n",
    "  collect_metrics() %>% \n",
    "  arrange(penalty) %>% \n",
    "  slice(5)\n",
    "lr_best"
   ]
  },
  {
   "cell_type": "code",
   "execution_count": null,
   "id": "702f4a01-c45f-43d8-831f-7385192d44fd",
   "metadata": {},
   "outputs": [],
   "source": [
    "options(repr.plot.width = 8, repr.plot.height = 8, repr.plot.res =100)\n",
    "\n",
    "bgr3 = theme(plot.background = element_rect(fill=\"#FFDAB9\"),\n",
    "             axis.title.y = element_text(size=17, face = \"bold\"),\n",
    "             axis.title.x = element_text(size=17, face = \"bold\"),\n",
    "             axis.text.x = element_text(size=15,face = \"bold\"),\n",
    "             axis.text.y = element_text(size=15,face = \"bold\"))\n",
    "\n",
    "lr_auc <- \n",
    "  lr_res %>% \n",
    "  collect_predictions(parameters = lr_best) %>% \n",
    "  roc_curve(booking_status, .pred_Canceled) %>% \n",
    "  mutate(model = \"Logistic Regression\")\n",
    "\n",
    "autoplot(lr_auc)+\n",
    " theme_stata() +\n",
    " bgr3"
   ]
  },
  {
   "cell_type": "markdown",
   "id": "02bceece-db20-4b1f-8140-a02acf8a88a7",
   "metadata": {},
   "source": [
    "# SECOND MODEL: TREE-BASED ENSEMBLE\n",
    "\n",
    "An effective and low-maintenance modeling technique is a random forest.\n",
    "Although the default hyperparameters for random forests tend to give reasonable results, we’ll plan to tune two hyperparameters that we think could improve performance.Unfortunately, random forest models can be computationally expensive to train and to tune. The computations required for model tuning can usually be easily parallelized to improve training time. The tune package can do parallel processing for you, and allows users to use multiple cores or separate machines to fit models."
   ]
  },
  {
   "cell_type": "code",
   "execution_count": null,
   "id": "42983264-4d3d-44cf-8f3f-c29b50b64e82",
   "metadata": {},
   "outputs": [],
   "source": [
    "cores <- parallel::detectCores()\n",
    "cores"
   ]
  },
  {
   "cell_type": "code",
   "execution_count": null,
   "id": "7f5b8601-f614-491b-9e03-d9006e7a25b9",
   "metadata": {},
   "outputs": [],
   "source": [
    "rf_mod <- \n",
    "  rand_forest(mtry = tune(), min_n = tune(), trees = 1000) %>% \n",
    "  set_engine(\"ranger\", num.threads = cores) %>% \n",
    " # set_engine(\"ranger\") %>% \n",
    "  set_mode(\"classification\")"
   ]
  },
  {
   "cell_type": "markdown",
   "id": "29b2b32e-640c-44f0-89d5-d037e52c62e7",
   "metadata": {},
   "source": [
    "# THE RECIPE"
   ]
  },
  {
   "cell_type": "code",
   "execution_count": null,
   "id": "73134c51-3e19-49ee-88e7-3d4963535063",
   "metadata": {},
   "outputs": [],
   "source": [
    "rf_recipe <- \n",
    "  recipe(booking_status ~ ., data = hotel_other) "
   ]
  },
  {
   "cell_type": "markdown",
   "id": "2883ed53-e579-4653-b74c-add35ed0c887",
   "metadata": {},
   "source": [
    "# THE WORKFLOW"
   ]
  },
  {
   "cell_type": "code",
   "execution_count": null,
   "id": "0d7ebc0c-f032-4c98-80a7-779d4805854c",
   "metadata": {},
   "outputs": [],
   "source": [
    "rf_workflow <- \n",
    "  workflow() %>% \n",
    "  add_model(rf_mod) %>% \n",
    "  add_recipe(rf_recipe)"
   ]
  },
  {
   "cell_type": "markdown",
   "id": "355aad4a-402c-426e-85e4-2736182ee6bd",
   "metadata": {},
   "source": [
    "# TRAIN AND TUNE THE MODEL"
   ]
  },
  {
   "cell_type": "code",
   "execution_count": null,
   "id": "4fa5c6f1-b518-4d27-a78a-251552603ab5",
   "metadata": {},
   "outputs": [],
   "source": [
    "# rf_mod\n",
    "\n",
    "# show what will be tuned\n",
    "# extract_parameter_set_dials(rf_mod)"
   ]
  },
  {
   "cell_type": "markdown",
   "id": "be1b6f76-c7c2-4cc4-bc60-db4ca191f726",
   "metadata": {},
   "source": [
    "We will use a space-filling design to tune, with 25 candidate models:"
   ]
  },
  {
   "cell_type": "code",
   "execution_count": null,
   "id": "8d7fc969-12a5-42d5-b7e7-e46153615f96",
   "metadata": {},
   "outputs": [],
   "source": [
    "set.seed(345)\n",
    "rf_res <- \n",
    "  rf_workflow %>% \n",
    "  tune_grid(val_set,\n",
    "            grid = 25,\n",
    "            control = control_grid(save_pred = TRUE),\n",
    "            metrics = metric_set(roc_auc))"
   ]
  },
  {
   "cell_type": "markdown",
   "id": "856a3db9-b99f-4b80-a805-4a26f5d155ae",
   "metadata": {},
   "source": [
    "The message printed above “Creating pre-processing data to finalize unknown parameter: mtry” is related to the size of the data set. Since mtry depends on the number of predictors in the data set, tune_grid() determines the upper bound for mtry once it receives the data. "
   ]
  },
  {
   "cell_type": "markdown",
   "id": "896c8a61-a93d-47f2-82d3-62850e3c238a",
   "metadata": {},
   "source": [
    "Here are our top 5 random forest models, out of the 25 candidates:"
   ]
  },
  {
   "cell_type": "code",
   "execution_count": null,
   "id": "2fc1f50d-2904-49d2-a869-1fb12ac5400d",
   "metadata": {},
   "outputs": [],
   "source": [
    "bgr4 = theme(plot.background = element_rect(fill=\"#FFDAB9\"),\n",
    "             axis.title.y = element_text(size=17, face = \"bold\"),\n",
    "            # axis.title.x = element_text(size=17, face = \"bold\"),\n",
    "             axis.text.x = element_text(size=15,face = \"bold\"),\n",
    "             axis.text.y = element_text(size=15,face = \"bold\"))\n",
    "\n",
    "rf_res %>% \n",
    "  show_best(metric = \"roc_auc\")\n",
    "\n",
    "autoplot(rf_res)+theme_stata()+bgr4"
   ]
  },
  {
   "cell_type": "markdown",
   "id": "f634fd16-4b40-47a5-a770-07f2a636f959",
   "metadata": {},
   "source": [
    "Right away, we see that these values for area under the ROC look more promising than our top model using penalized logistic regression, which yielded an ROC AUC of 0.861."
   ]
  },
  {
   "cell_type": "markdown",
   "id": "53059177-5620-4e57-9d58-bd2fb76832d7",
   "metadata": {},
   "source": [
    "Let’s select the best model according to the ROC AUC metric. Our final tuning parameter values are:"
   ]
  },
  {
   "cell_type": "code",
   "execution_count": null,
   "id": "7cf7c158-7ce7-492e-9ba4-2d3cbe47cf69",
   "metadata": {},
   "outputs": [],
   "source": [
    "rf_best <- \n",
    "  rf_res %>% \n",
    "  select_best(metric = \"roc_auc\")\n",
    "rf_best"
   ]
  },
  {
   "cell_type": "markdown",
   "id": "f7e086c8-da96-4aab-b828-ada95ec61a00",
   "metadata": {},
   "source": [
    "To calculate the data needed to plot the ROC curve, we use collect_predictions(). This is only possible after tuning with control_grid(save_pred = TRUE). In the output, you can see the two columns that hold our class probabilities for predicting hotel cancellations."
   ]
  },
  {
   "cell_type": "markdown",
   "id": "8a9ec0a6-103b-41a5-9dd5-19a803d313fa",
   "metadata": {},
   "source": [
    "To filter the predictions for only our best random forest model, we can use the parameters argument and pass it our tibble with the best hyperparameter values from tuning, which we called rf_best:"
   ]
  },
  {
   "cell_type": "code",
   "execution_count": null,
   "id": "f0168309-5ee2-4185-91fe-0d03e14da74b",
   "metadata": {},
   "outputs": [],
   "source": [
    "rf_auc <- \n",
    "  rf_res %>% \n",
    "  collect_predictions(parameters = rf_best) %>% \n",
    "  roc_curve(booking_status, .pred_Canceled) %>% \n",
    "  mutate(model = \"Random Forest\")"
   ]
  },
  {
   "cell_type": "markdown",
   "id": "5720c6eb-94c2-4367-9585-53623afabca9",
   "metadata": {},
   "source": [
    "Now, we can compare the validation set ROC curves for our top penalized logistic regression model and random forest model:"
   ]
  },
  {
   "cell_type": "code",
   "execution_count": null,
   "id": "aa7680fc-0530-401d-b27c-637c8c3c7b0c",
   "metadata": {},
   "outputs": [],
   "source": [
    "bgr5 = theme(\n",
    "             axis.title.x = element_text(size=16,face = \"bold\"),\n",
    "             axis.title.y = element_text(size=16,face = \"bold\"),\n",
    "             axis.text.x = element_text(size=15,face = \"bold\", angle = 0),\n",
    "             axis.text.y = element_text(size=15,face = \"bold\"),\n",
    "             legend.text = element_text(size=18, color=\"black\"),\n",
    "             legend.title = element_text(size=19,face = \"bold\"),\n",
    "             legend.position = \"bottom\")\n",
    "\n",
    "bind_rows(rf_auc, lr_auc) %>% \n",
    "  ggplot(aes(x = 1 - specificity, y = sensitivity, col = model)) + \n",
    "  geom_path(linewidth = 1.5, alpha = 0.8) +\n",
    "  geom_abline(lty = 3) + \n",
    "  coord_equal() + \n",
    "  scale_color_viridis_d(option = \"plasma\", end = .6) + \n",
    "  theme_classic() + bgr5"
   ]
  },
  {
   "cell_type": "markdown",
   "id": "598a9ea8-32ed-4dfa-ac95-0354c70f1edd",
   "metadata": {},
   "source": [
    "The random forest is uniformly better across event probability thresholds."
   ]
  },
  {
   "cell_type": "markdown",
   "id": "93a6c252-28d2-477d-b7c4-11ff8b827d97",
   "metadata": {},
   "source": [
    "# THIRD MODEL: XGBOOST"
   ]
  },
  {
   "cell_type": "code",
   "execution_count": null,
   "id": "1d5c8c96-9b92-4464-8205-64efffd7c79c",
   "metadata": {},
   "outputs": [],
   "source": [
    "xgb_recipe <- \n",
    "  recipe(booking_status ~ ., data = hotel_other) %>%\n",
    "  step_dummy(all_nominal_predictors())\n",
    "\n",
    "xgb_spec <- boost_tree(\n",
    "  trees = 1000,                                \n",
    "  tree_depth = tune(),                             \n",
    "  min_n = tune(),                                \n",
    "  loss_reduction =tune(),                         \n",
    "  mtry = tune(),              \n",
    "  learn_rate = tune(),   \n",
    "  sample_size = tune()    \n",
    ") %>%\n",
    "  set_engine(\"xgboost\",num.threads = cores) %>%  \n",
    "  set_mode(\"classification\") \n",
    "\n",
    "#  workflow \n",
    "\n",
    "xgb_workflow <- \n",
    "  workflow() %>%\n",
    "  add_recipe(xgb_recipe) %>%\n",
    "  add_model(xgb_spec)\n",
    "\n",
    "# xgb_spec "
   ]
  },
  {
   "cell_type": "code",
   "execution_count": null,
   "id": "a0295e04-5b3c-446e-805b-739fd8709dcb",
   "metadata": {},
   "outputs": [],
   "source": [
    "set.seed(345)\n",
    "xgb_res <- \n",
    "  xgb_workflow %>% \n",
    "  tune_grid(val_set,\n",
    "            grid = 25,\n",
    "            control = control_grid(save_pred = TRUE),\n",
    "            metrics = metric_set(roc_auc))"
   ]
  },
  {
   "cell_type": "code",
   "execution_count": null,
   "id": "f24c6abd-36b8-4c56-bc44-3db45ec1b297",
   "metadata": {},
   "outputs": [],
   "source": [
    "bgr6 = theme(\n",
    "           #  axis.title.x = element_text(size=16,face = \"bold\"),\n",
    "             axis.title.y = element_text(size=16,face = \"bold\"),\n",
    "             axis.text.x = element_text(size=15,face = \"bold\", angle = 0),\n",
    "             axis.text.y = element_text(size=15,face = \"bold\"))\n",
    "xgb_res %>% \n",
    "  show_best(metric = \"roc_auc\")\n",
    "\n",
    "autoplot(xgb_res)+theme_stata()+bgr6\n",
    "\n",
    "xgb_best <- \n",
    "  xgb_res %>% \n",
    "  select_best(metric = \"roc_auc\")\n",
    "xgb_best"
   ]
  },
  {
   "cell_type": "code",
   "execution_count": null,
   "id": "c8e3b3f7-935a-4573-97ca-5ff5e8299ded",
   "metadata": {},
   "outputs": [],
   "source": [
    "options(repr.plot.width = 10, repr.plot.height = 8, repr.plot.res =100)\n",
    "\n",
    "bgr7 = theme(\n",
    "             axis.title.x = element_text(size=16,face = \"bold\"),\n",
    "             axis.title.y = element_text(size=16,face = \"bold\"),\n",
    "             axis.text.x = element_text(size=15,face = \"bold\", angle = 0),\n",
    "             axis.text.y = element_text(size=15,face = \"bold\"),\n",
    "             legend.text = element_text(size=15, color=\"black\"),\n",
    "             legend.title = element_text(size=16,face = \"bold\"))\n",
    "             # legend.position = \"up\")\n",
    "\n",
    "xgb_auc <- \n",
    "  xgb_res %>% \n",
    "  collect_predictions(parameters = xgb_best) %>% \n",
    "  roc_curve(booking_status, .pred_Canceled) %>% \n",
    "  mutate(model = \"XGBoost\")\n",
    "\n",
    "bind_rows(xgb_auc, rf_auc, lr_auc) %>% \n",
    "  ggplot(aes(x = 1 - specificity, y = sensitivity, col = model)) + \n",
    "  geom_path(linewidth = 1.5, alpha = 0.8) +\n",
    "  geom_abline(lty = 3) + \n",
    "  coord_equal() + \n",
    "  scale_color_viridis_d(option = \"plasma\", end = .6)+\n",
    "  theme_classic() +\n",
    "  bgr7"
   ]
  },
  {
   "cell_type": "markdown",
   "id": "6c24f84e-62a1-4694-8a53-8530af6d2c5e",
   "metadata": {},
   "source": [
    "# THE LAST FIT\n",
    "\n",
    "Our goal was to predict hotel cancellations. The random forest model clearly performed better than the penalized logistic regression model and slightly better than XGBoost so it would be our best bet for predicting hotel cancellations. After selecting our best model and hyperparameter values, our last step is to fit the final model on all the rows of data not originally held out for testing (both the training and the validation sets combined), and then evaluate the model performance one last time with the held-out test set.\n",
    "\n",
    "We’ll start by building our parsnip model object again from scratch. We take our best hyperparameter values from our random forest model. When we set the engine, we add a new argument: importance = \"impurity\". This will provide variable importance scores for this last model, which gives some insight into which predictors drive model performance"
   ]
  },
  {
   "cell_type": "code",
   "execution_count": null,
   "id": "d3dfdc63-32fd-4135-8350-47713298a931",
   "metadata": {},
   "outputs": [],
   "source": [
    "# the last model\n",
    "last_rf_mod <- \n",
    "  rand_forest(mtry = 5, min_n = 7, trees = 1000) %>% \n",
    "  set_engine(\"ranger\", num.threads = cores, importance = \"impurity\") %>% \n",
    "  #set_engine(\"ranger\", importance = \"impurity\") %>% \n",
    "  set_mode(\"classification\")\n",
    "\n",
    "# the last workflow\n",
    "last_rf_workflow <- \n",
    "  workflow() %>% \n",
    "  add_model(last_rf_mod) %>% \n",
    "  add_recipe(rf_recipe)\n",
    "\n",
    "# the last fit\n",
    "set.seed(345)\n",
    "last_rf_fit <- \n",
    "  last_rf_workflow %>% \n",
    "  last_fit(splits)"
   ]
  },
  {
   "cell_type": "markdown",
   "id": "f44fc609-8402-4d13-9cdd-c77a306754d7",
   "metadata": {},
   "source": [
    "This fitted workflow contains everything, including our final metrics based on the test set. So, how did this model do on the test set? Was the validation set a good estimate of future performance?"
   ]
  },
  {
   "cell_type": "code",
   "execution_count": null,
   "id": "bff0535d-45fe-4a52-a16a-d53c67c8aec8",
   "metadata": {},
   "outputs": [],
   "source": [
    "last_rf_fit %>% \n",
    "  collect_metrics()"
   ]
  },
  {
   "cell_type": "markdown",
   "id": "f66c467a-a405-4e9a-a1c9-bea9bc565eb5",
   "metadata": {},
   "source": [
    "This ROC AUC value is pretty close to what we saw when we tuned the random forest model with the validation set, which is good news. That means that our estimate of how well our model would perform with new data was not too far off from how well our model actually performed with the unseen test data.\n",
    "\n",
    "We can access those variable importance scores via the .workflow column. We can extract out the fit from the workflow object, and then use the vip package to visualize the variable importance scores for the top 15 features:"
   ]
  },
  {
   "cell_type": "code",
   "execution_count": null,
   "id": "42683c4c-4408-48dd-a4b6-8ca675e1668b",
   "metadata": {},
   "outputs": [],
   "source": [
    "options(repr.plot.width = 8, repr.plot.height = 8, repr.plot.res =100)\n",
    "\n",
    "bgr8 = theme(\n",
    "             axis.title.x = element_text(size=16,face = \"bold\"),\n",
    "             axis.title.y = element_text(size=16,face = \"bold\"),\n",
    "             axis.text.x = element_text(size=15,face = \"bold\", angle = 0),\n",
    "             axis.text.y = element_text(size=15,face = \"bold\"))\n",
    "\n",
    "last_rf_fit %>% \n",
    "  extract_fit_parsnip() %>% \n",
    "  vip(num_features =15)+bgr8"
   ]
  },
  {
   "cell_type": "markdown",
   "id": "9363ed3c-a442-4aef-9c50-2bc1de029bc9",
   "metadata": {},
   "source": [
    "The top six most important predictors were the lead_time, the avg_price_per_room, the no_of_special_requests, the arrival_month, the arrival_date and the market_segment_type.\n",
    "\n",
    "Let’s generate our last ROC curve to visualize. "
   ]
  },
  {
   "cell_type": "code",
   "execution_count": null,
   "id": "61b6de9e-1e43-413d-9993-aa9977b5f311",
   "metadata": {},
   "outputs": [],
   "source": [
    "bgr9 = theme(plot.background = element_rect(fill=\"white\"),\n",
    "             axis.title.x = element_text(size=16,face = \"bold\"),\n",
    "             axis.title.y = element_text(size=16,face = \"bold\"),\n",
    "             axis.text.x = element_text(size=15,face = \"bold\", angle = 0),\n",
    "             axis.text.y = element_text(size=15,face = \"bold\"))\n",
    "\n",
    "last_rf_fit %>% \n",
    "  collect_predictions() %>% \n",
    "  roc_curve(booking_status, .pred_Canceled) %>% \n",
    "  autoplot() + \n",
    "  theme_wsj() + \n",
    "  bgr9"
   ]
  },
  {
   "cell_type": "markdown",
   "id": "772f26f9-1801-4621-9a2f-944422a45009",
   "metadata": {},
   "source": [
    "Based on these results, the validation set and test set performance statistics are very close, so we would have pretty high confidence that our random forest model with the selected hyperparameters would perform well when predicting new data."
   ]
  },
  {
   "cell_type": "markdown",
   "id": "9617a6ad-7890-448d-a598-9f790db99287",
   "metadata": {},
   "source": [
    "# VISUALIZATIONS\n",
    "\n",
    "In this section, we will enhance the presentation of our findings through visualizations."
   ]
  },
  {
   "cell_type": "code",
   "execution_count": null,
   "id": "9e2f1434-18a4-46b8-969e-1fe26b57bbe5",
   "metadata": {},
   "outputs": [],
   "source": [
    "df <- hotels %>% \n",
    "  select(lead_time, avg_price_per_room, no_of_special_requests, \n",
    "         arrival_month, arrival_date, market_segment_type,booking_status,arrival_year) %>%\n",
    "  mutate(arrival_month = as.character(arrival_month), \n",
    "         months = factor(arrival_month, levels = as.character(1:12),labels = month.name))\n",
    "\n",
    "df %>% glimpse()"
   ]
  },
  {
   "cell_type": "code",
   "execution_count": null,
   "id": "e5e3ebef-8c97-4e9a-80fd-89baff7e541e",
   "metadata": {},
   "outputs": [],
   "source": [
    "tema = theme(plot.background = element_rect(fill=\"#FFDAB9\"),\n",
    "             plot.title = element_text(size=18, hjust=.5),\n",
    "             axis.title.x = element_text(size=16, color = \"black\",hjust=.5, vjust=-3,face = \"bold\"),\n",
    "             axis.title.y = element_text(size=16, color = \"black\",hjust=.5, vjust=3,face = \"bold\"),\n",
    "             axis.text.x = element_text(size=15,hjust=.5, vjust=0.5,face = \"bold\"),\n",
    "             axis.text.y = element_text(size=15,face = \"bold\",hjust=.5),\n",
    "             legend.text = element_text(size=15, color=\"black\"),\n",
    "             legend.title = element_text(size=15,face = \"bold\"))\n",
    "\n",
    "\n",
    "p1<-ggplot(df, aes(x = booking_status, y = lead_time, fill = booking_status)) +\n",
    "  geom_boxplot() +\n",
    "  labs(x = \"Booking Status\", y = \"Lead Time\") +\n",
    "  ggtitle(\"Lead Time Boxplot by Booking Status\") +\n",
    "  theme_wsj()+\n",
    "  tema\n",
    "\n",
    "p2<-ggplot(df, aes(x = lead_time, fill = booking_status)) +\n",
    "  geom_density(alpha = .8) +\n",
    "  labs(x = \"Lead Time\", y = NULL) +\n",
    "  ggtitle(\"Distribution of Lead Time\\n by Booking Status\") +\n",
    "  theme_wsj()+\n",
    "  tema\n",
    "\n",
    "p3<-ggplot(df, aes(x = lead_time, fill = booking_status, y = booking_status, color = booking_status))+\n",
    "  geom_density_ridges(mapping = aes(fill = booking_status), color = \"black\", size = 1, alpha = .8)+\n",
    "  labs(x = \"Lead Time\", y=NULL)+\n",
    "  theme_wsj()+\n",
    "  tema\n",
    "\n",
    "\n",
    "p4<-ggplot(df, aes(x = booking_status, y = avg_price_per_room, fill = booking_status)) +\n",
    "  geom_boxplot() +\n",
    "  labs(x = \"Booking Status\", y = \"Avg price per room\") +\n",
    "  ggtitle(\"Avg price per_room Boxplot\\n by Booking Status\") +\n",
    "  theme_wsj()+\n",
    "  tema+\n",
    "  coord_flip()\n",
    "\n",
    "p5<-ggplot(df, aes(x= avg_price_per_room, fill = booking_status)) +\n",
    "  geom_density(alpha = .8) +\n",
    "  labs(x = \"Avg price per room\", y = NULL) +\n",
    "  ggtitle(\"Distribution of Avg price per room\\n by Booking Status\") +\n",
    "  theme_wsj()+\n",
    "  tema\n",
    "\n",
    "p6<-ggplot(df, aes(x = avg_price_per_room, fill = booking_status, y = booking_status, color = booking_status))+\n",
    "  geom_density_ridges(mapping = aes(fill = booking_status), color = \"black\", size = 1, alpha = .8)+\n",
    "  labs(x = \"Avg price per room\", y=NULL)+\n",
    "  theme_wsj()+\n",
    "  tema\n",
    "\n",
    "\n",
    "p7<-ggplot(df, aes(x = booking_status, y = no_of_special_requests, fill = booking_status)) +\n",
    "  geom_boxplot() +\n",
    "  labs(x = \"Booking Status\", y = \"No of Special Requests\") +\n",
    "  ggtitle(\"No of Special Requests Boxplot\\n by Booking Status\") +\n",
    "  theme_wsj()+\n",
    "  tema+\n",
    "  coord_flip()\n",
    "\n",
    "p8<-ggplot(df, aes(x = no_of_special_requests, fill = booking_status)) +\n",
    "  geom_density(alpha = .8) +\n",
    "  labs(x = \"No of Special Requests\", y = NULL) +\n",
    "  ggtitle(\"Distribution of No of Special Requests\\n by Booking Status\") +\n",
    "  theme_wsj()+\n",
    "  tema\n",
    "\n",
    "p9<-ggplot(df, aes(x = no_of_special_requests, fill = booking_status, y = booking_status, color = booking_status))+\n",
    "  geom_density_ridges(mapping = aes(fill = booking_status), color = \"black\", size = 1, alpha = .8)+\n",
    "  labs(x = \"No of Special Requests\", y=NULL)+\n",
    "  theme_wsj()+\n",
    "  tema\n",
    "\n",
    "plot_list <- list(p1, p2, p3, p4, p5, p6, p7, p8, p9)"
   ]
  },
  {
   "cell_type": "code",
   "execution_count": null,
   "id": "2ab816cf-0ac1-465a-9f7a-d489ccc2c4c8",
   "metadata": {},
   "outputs": [],
   "source": [
    "options(repr.plot.width = 21, repr.plot.height = 15, repr.plot.res =100)\n",
    "\n",
    "grid_arrange =patchwork::wrap_plots(plot_list, ncol = 3)\n",
    "grid_arrange"
   ]
  },
  {
   "cell_type": "code",
   "execution_count": null,
   "id": "a54cb8bc-5733-4353-a945-e0cbc9cbce1c",
   "metadata": {},
   "outputs": [],
   "source": [
    "options(repr.plot.width = 15, repr.plot.height = 8, repr.plot.res =100)\n",
    "\n",
    "\n",
    "tema2 = theme(plot.background = element_rect(fill=\"#FFDAB9\"),\n",
    "             plot.title = element_text(size=18, hjust = .5),\n",
    "             axis.title.x = element_text(size=16, color = \"black\",hjust=.5, vjust=-3,face = \"bold\"),\n",
    "             axis.title.y = element_text(size=16, color = \"black\",hjust=.5, vjust=3,face = \"bold\"),\n",
    "             axis.text.x = element_text(size=15,hjust=.5, vjust=0.5,face = \"bold\",angle = 90),\n",
    "             axis.text.y = element_text(size=15,face = \"bold\",hjust=.5),\n",
    "             legend.text = element_text(size=15, color=\"black\"),\n",
    "             legend.title = element_text(size=15,face = \"bold\"))\n",
    "\n",
    "\n",
    "p1<-df %>%\n",
    "  count(booking_status, months) %>%\n",
    "  group_by(months) %>%\n",
    "  mutate(proportion = n / sum(n)) %>%\n",
    "  ggplot(aes(x = months, y = proportion, fill = booking_status)) +\n",
    "  geom_col(position = \"dodge2\") +\n",
    "  scale_y_continuous(labels = scales::percent_format()) +\n",
    "  labs(x = NULL, y = \"Proportion of Hotel Bookings\", fill = NULL) +\n",
    "  theme_wsj()+\n",
    "  tema2 +\n",
    "  ggtitle(\"Proportional Analysis of \\nHotel Booking Status by\\n Month Separately\") \n",
    "\n",
    "\n",
    "# same plot with coord flip\n",
    "p2<-df %>%\n",
    "  count(booking_status, months) %>%\n",
    "  group_by(months) %>%\n",
    "  mutate(proportion = n / sum(n)) %>%\n",
    "  ggplot(aes(x = months, y = proportion, fill = booking_status)) +\n",
    "  geom_col() +\n",
    "  scale_y_continuous(labels = scales::percent_format()) +\n",
    "  labs(x = NULL, y = \"Proportion of Hotel Bookings\", fill = NULL) +\n",
    "  theme_wsj()+\n",
    "  tema +\n",
    "  ggtitle(\"Proportional Analysis of \\nHotel Booking Status by\\n Month Separately\")  +\n",
    "  coord_flip()\n",
    "\n",
    "\n",
    "plot_list <- list(p1,p2)\n",
    "grid_arrange =patchwork::wrap_plots(plot_list, ncol = 2)\n",
    "grid_arrange"
   ]
  },
  {
   "cell_type": "code",
   "execution_count": null,
   "id": "b09a27fd-3281-44a6-b0be-4240ba5a5755",
   "metadata": {},
   "outputs": [],
   "source": [
    "p1<-df %>%\n",
    "  count(booking_status, months) %>%\n",
    "  group_by(booking_status) %>% # The proportions are aggregated according to booking status.\n",
    "  mutate(proportion = n / sum(n)) %>%\n",
    "  ggplot(aes(x = months, y = proportion, fill = booking_status)) +\n",
    "  geom_col(position = \"dodge2\") +\n",
    "  scale_y_continuous(labels = scales::percent_format()) +\n",
    "  labs(x = NULL, y = \"Proportion of Hotel Bookings\", fill = NULL) +\n",
    "  theme_wsj()+\n",
    "  tema2 +\n",
    "  ggtitle(\"Proportional Analysis of\\n Hotel Booking Status\\nby all Months\\n Throughout all Years in the Data\") \n",
    "\n",
    "# same plot with coord flip\n",
    "p2<-df %>%\n",
    "  count(booking_status, months) %>%\n",
    "  group_by(booking_status) %>% # The proportions are aggregated according to booking status.\n",
    "  mutate(proportion = n / sum(n)) %>%\n",
    "  ggplot(aes(x = months, y = proportion, fill = booking_status)) +\n",
    "  geom_col() +\n",
    "  scale_y_continuous(labels = scales::percent_format()) +\n",
    "  labs(x = NULL, y = \"Proportion of Hotel Bookings\", fill = NULL) +\n",
    "  theme_wsj()+\n",
    "  tema +\n",
    "  ggtitle(\"Proportional Analysis of\\n Hotel Booking Status\\nby all Months\\n Throughout all Years in the Data\") +\n",
    "  coord_flip()\n",
    "\n",
    "\n",
    "plot_list <- list(p1,p2)\n",
    "grid_arrange =patchwork::wrap_plots(plot_list, ncol = 2)\n",
    "grid_arrange"
   ]
  },
  {
   "cell_type": "code",
   "execution_count": null,
   "id": "55168a1c-a162-4767-bb07-73ee6e835123",
   "metadata": {},
   "outputs": [],
   "source": [
    "tema3 = theme(plot.background = element_rect(fill=\"#FFDAB9\"),\n",
    "             plot.title = element_text(size=18, hjust = .5),\n",
    "             axis.title.x = element_text(size=16, color = \"black\",hjust=.5, vjust=-3,face = \"bold\"),\n",
    "             axis.title.y = element_text(size=16, color = \"black\",hjust=.5, vjust=3,face = \"bold\"),\n",
    "             axis.text.x = element_text(size=15,hjust=.5, vjust=0.5,face = \"bold\", angle = 0),\n",
    "             axis.text.y = element_text(size=15,face = \"bold\",hjust=.5),\n",
    "             legend.text = element_text(size=15, color=\"black\"),\n",
    "             legend.title = element_text(size=15,face = \"bold\"))\n",
    "\n",
    "\n",
    "\n",
    "p1<-df %>%\n",
    "  count(booking_status, arrival_date) %>%\n",
    "  group_by(arrival_date) %>%\n",
    "  mutate(proportion = n / sum(n)) %>%\n",
    "  ggplot(aes(x = arrival_date, y = proportion, fill = booking_status)) +\n",
    "  geom_col(width = .7)+\n",
    "  scale_y_continuous(labels = scales::percent_format()) +\n",
    "  scale_x_continuous(breaks = seq(1, 31, by = 2))+\n",
    "  labs(x = NULL, y = \"Proportion of Hotel Bookings\", fill = NULL) +\n",
    "  theme_wsj()+\n",
    "  tema3 +\n",
    "  ggtitle(\"Proportional Analysis of \\nHotel Booking Status by\\n each Day Separately\") \n",
    "\n",
    "\n",
    "p2<-df %>%\n",
    "  count(booking_status, arrival_date) %>%\n",
    "  group_by(booking_status) %>% # The proportions are aggregated according to booking status.\n",
    "  mutate(proportion = n / sum(n)) %>%\n",
    "  ggplot(aes(x = arrival_date, y = proportion, fill = booking_status)) +\n",
    "  geom_col(width = .8)+\n",
    "  scale_y_continuous(labels = scales::percent_format()) +\n",
    "  scale_x_continuous(breaks = seq(1, 31, by = 2))+\n",
    "  labs(x = NULL, y = \"Proportion of Hotel Bookings\", fill = NULL) +\n",
    "  theme_wsj()+\n",
    "  tema3 +\n",
    "  ggtitle(\"Proportional Analysis of \\nHotel Booking Status by\\n each Day Throughout all Years in the Data\") +\n",
    "  coord_flip()\n",
    "\n",
    "plot_list <- list(p1,p2)\n",
    "grid_arrange =patchwork::wrap_plots(plot_list, ncol = 2)\n",
    "grid_arrange"
   ]
  },
  {
   "cell_type": "code",
   "execution_count": null,
   "id": "fa9ec139-dde0-4313-a6d5-113cf177dca1",
   "metadata": {},
   "outputs": [],
   "source": [
    "options(repr.plot.width = 8, repr.plot.height = 8, repr.plot.res =100)\n",
    "\n",
    "df %>%\n",
    "  count(booking_status, market_segment_type) %>%\n",
    "  group_by(market_segment_type) %>%\n",
    "  mutate(proportion = n / sum(n)) %>%\n",
    "  ggplot(aes(x = market_segment_type, y = proportion, fill = booking_status)) +\n",
    "  geom_col(width = .7)+\n",
    "  scale_y_continuous(labels = scales::percent_format()) +\n",
    "  labs(x = NULL, y = \"Proportion of Hotel Bookings\", fill = NULL) +\n",
    "  theme_wsj()+\n",
    "  tema3 +\n",
    "  ggtitle(\"Proportional Analysis of \\nHotel Booking Status by\\n Market Segment Type Separately\") +\n",
    "  coord_flip()"
   ]
  },
  {
   "cell_type": "code",
   "execution_count": null,
   "id": "e69e8c58-0d1c-41d3-a826-a426d2e46ebf",
   "metadata": {},
   "outputs": [],
   "source": [
    "tema4 = theme(plot.background = element_rect(fill=\"#FFDAB9\"),\n",
    "             plot.title = element_text(size=18, hjust = .5),\n",
    "             axis.title.x = element_text(size=16, color = \"black\",hjust=.5, vjust=-3,face = \"bold\"),\n",
    "             axis.title.y = element_text(size=16, color = \"black\",hjust=.5, vjust=3,face = \"bold\"),\n",
    "             axis.text.x = element_text(size=15,hjust=.5, vjust=0.5,face = \"bold\", angle = 0),\n",
    "             axis.text.y = element_text(size=15,face = \"bold\",hjust=.5),\n",
    "             legend.text = element_text(size=14, color=\"black\"),\n",
    "             legend.title = element_text(size=.5,face = \"bold\"))\n",
    "df %>%\n",
    "  count(booking_status, market_segment_type) %>%\n",
    "  group_by(booking_status) %>% # # The proportions are aggregated according to booking status.\n",
    "  mutate(proportion = n / sum(n)) %>%\n",
    "  ggplot(aes(x = booking_status, y = proportion, fill = market_segment_type)) +\n",
    "  geom_col(position = \"dodge2\")+\n",
    "  scale_y_continuous(labels = scales::percent_format())+\n",
    "  labs(x = NULL, y = \"Proportion of Hotel Bookings\", fill = NULL) +\n",
    "  theme_wsj()+\n",
    "  tema4 +\n",
    "  ggtitle(\"Proportional Analysis of \\nHotel Booking Status by\\n Market Segment Type \\nThroughout all Years in the Data\")\n",
    "\n",
    "\n",
    "df %>% \n",
    "  count(market_segment_type, booking_status) %>% \n",
    "  group_by(booking_status) %>%\n",
    "  mutate(prop = scales::percent(n/sum(n), accuracy = 0.1))"
   ]
  }
 ],
 "metadata": {
  "kernelspec": {
   "display_name": "R",
   "language": "R",
   "name": "ir"
  },
  "language_info": {
   "codemirror_mode": "r",
   "file_extension": ".r",
   "mimetype": "text/x-r-source",
   "name": "R",
   "pygments_lexer": "r",
   "version": "4.0.3"
  },
  "toc-showmarkdowntxt": true
 },
 "nbformat": 4,
 "nbformat_minor": 5
}
